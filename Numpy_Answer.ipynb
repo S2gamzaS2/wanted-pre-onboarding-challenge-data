{
  "nbformat": 4,
  "nbformat_minor": 0,
  "metadata": {
    "colab": {
      "provenance": [],
      "authorship_tag": "ABX9TyOkZ8tQJ4xQRsLNU38ShbZZ"
    },
    "kernelspec": {
      "name": "python3",
      "display_name": "Python 3"
    },
    "language_info": {
      "name": "python"
    }
  },
  "cells": [
    {
      "cell_type": "code",
      "execution_count": null,
      "metadata": {
        "id": "anEtnng8EBhf"
      },
      "outputs": [],
      "source": [
        "import numpy as np"
      ]
    },
    {
      "cell_type": "markdown",
      "source": [
        "### 1. 값이 10~49 인 numpy array를 만드세요"
      ],
      "metadata": {
        "id": "4aMeLlqxEhSW"
      }
    },
    {
      "cell_type": "code",
      "source": [
        "z = np.arange(10, 50)\n",
        "print(z)"
      ],
      "metadata": {
        "colab": {
          "base_uri": "https://localhost:8080/"
        },
        "id": "4slrBE5NESUH",
        "outputId": "66f5a3de-86e6-4d0c-a714-48cb006d625e"
      },
      "execution_count": null,
      "outputs": [
        {
          "output_type": "stream",
          "name": "stdout",
          "text": [
            "[10 11 12 13 14 15 16 17 18 19 20 21 22 23 24 25 26 27 28 29 30 31 32 33\n",
            " 34 35 36 37 38 39 40 41 42 43 44 45 46 47 48 49]\n"
          ]
        }
      ]
    },
    {
      "cell_type": "markdown",
      "source": [
        "### 2. z를 반전하세요"
      ],
      "metadata": {
        "id": "EN8JvBDUE3dV"
      }
    },
    {
      "cell_type": "code",
      "source": [
        "z = z[::-1]\n",
        "print(z)"
      ],
      "metadata": {
        "colab": {
          "base_uri": "https://localhost:8080/"
        },
        "id": "vHg6ePVVEe0V",
        "outputId": "7d0a19d0-d6b3-4592-9ec4-b331348ecc0e"
      },
      "execution_count": null,
      "outputs": [
        {
          "output_type": "stream",
          "name": "stdout",
          "text": [
            "[49 48 47 46 45 44 43 42 41 40 39 38 37 36 35 34 33 32 31 30 29 28 27 26\n",
            " 25 24 23 22 21 20 19 18 17 16 15 14 13 12 11 10]\n"
          ]
        }
      ]
    },
    {
      "cell_type": "markdown",
      "source": [
        "### 3. 반전시킨 z 매트릭스를 10x4 매트릭스로 바꾸세요"
      ],
      "metadata": {
        "id": "WaQc5uIiFFwk"
      }
    },
    {
      "cell_type": "code",
      "source": [
        "z = z.reshape(10, 4)\n",
        "print(z)"
      ],
      "metadata": {
        "colab": {
          "base_uri": "https://localhost:8080/"
        },
        "id": "BwovA5HKFDEX",
        "outputId": "d079f0fe-6326-44bc-bf59-6bae538984ec"
      },
      "execution_count": null,
      "outputs": [
        {
          "output_type": "stream",
          "name": "stdout",
          "text": [
            "[[49 48 47 46]\n",
            " [45 44 43 42]\n",
            " [41 40 39 38]\n",
            " [37 36 35 34]\n",
            " [33 32 31 30]\n",
            " [29 28 27 26]\n",
            " [25 24 23 22]\n",
            " [21 20 19 18]\n",
            " [17 16 15 14]\n",
            " [13 12 11 10]]\n"
          ]
        }
      ]
    },
    {
      "cell_type": "markdown",
      "source": [
        "### 4. x에서 0이 아닌 요소의 색인을 찾아보세요"
      ],
      "metadata": {
        "id": "gyAbDNwXFRE-"
      }
    },
    {
      "cell_type": "code",
      "source": [
        "x = np.array([5,6,8,0,1,0,7])\n",
        "nz_idx = np.nonzero(x)[0]\n",
        "print(nz_idx)"
      ],
      "metadata": {
        "colab": {
          "base_uri": "https://localhost:8080/"
        },
        "id": "3vx3ccmbFO3k",
        "outputId": "c6d38d47-241b-4913-87ef-7202bed17c73"
      },
      "execution_count": null,
      "outputs": [
        {
          "output_type": "stream",
          "name": "stdout",
          "text": [
            "[0 1 2 4 6]\n"
          ]
        }
      ]
    },
    {
      "cell_type": "markdown",
      "source": [
        "### nan값 이해하기"
      ],
      "metadata": {
        "id": "VMGzYU7eF-8a"
      }
    },
    {
      "cell_type": "code",
      "source": [
        "print(np.nan == np.nan) # 다른 NaN값과 비교해도 항상 False\n",
        "print(np.isnan(np.nan)) # NaN 여부 검사\n",
        "\n",
        "import math\n",
        "print(0.3 == 3 * 0.1) # 부동 소수점 연산 한계로 다를 수 있음 => False\n",
        "print(math.isclose(0.1 + 0.2, 0.3)) # math.isclose(): 두 수가 거의 같은지 판단"
      ],
      "metadata": {
        "colab": {
          "base_uri": "https://localhost:8080/"
        },
        "id": "-NhjJFgnFshq",
        "outputId": "a48caf17-2a73-453d-8dae-5e82696a75a5"
      },
      "execution_count": null,
      "outputs": [
        {
          "output_type": "stream",
          "name": "stdout",
          "text": [
            "False\n",
            "True\n",
            "False\n",
            "True\n"
          ]
        }
      ]
    },
    {
      "cell_type": "markdown",
      "source": [
        "### 5. 12x12 매트릭스를 만들어 바둑판 패턴으로 0과 1을 채우세요"
      ],
      "metadata": {
        "id": "4-wx2pimGnkC"
      }
    },
    {
      "cell_type": "code",
      "source": [
        "x = np.zeros((12, 12))\n",
        "print(x, end='\\n\\n')\n",
        "###############\n",
        "# 슬라이싱을 사용하세요\n",
        "\n",
        "x[1::2, ::2] = 1\n",
        "x[0::2, 1::2] = 1\n",
        "\n",
        "\n",
        "\n",
        "###############\n",
        "print(x)"
      ],
      "metadata": {
        "colab": {
          "base_uri": "https://localhost:8080/"
        },
        "id": "ZfdQOriMF7Kr",
        "outputId": "8c3f1952-ef5d-4c2d-8604-9c8485aafe6c"
      },
      "execution_count": null,
      "outputs": [
        {
          "output_type": "stream",
          "name": "stdout",
          "text": [
            "[[0. 0. 0. 0. 0. 0. 0. 0. 0. 0. 0. 0.]\n",
            " [0. 0. 0. 0. 0. 0. 0. 0. 0. 0. 0. 0.]\n",
            " [0. 0. 0. 0. 0. 0. 0. 0. 0. 0. 0. 0.]\n",
            " [0. 0. 0. 0. 0. 0. 0. 0. 0. 0. 0. 0.]\n",
            " [0. 0. 0. 0. 0. 0. 0. 0. 0. 0. 0. 0.]\n",
            " [0. 0. 0. 0. 0. 0. 0. 0. 0. 0. 0. 0.]\n",
            " [0. 0. 0. 0. 0. 0. 0. 0. 0. 0. 0. 0.]\n",
            " [0. 0. 0. 0. 0. 0. 0. 0. 0. 0. 0. 0.]\n",
            " [0. 0. 0. 0. 0. 0. 0. 0. 0. 0. 0. 0.]\n",
            " [0. 0. 0. 0. 0. 0. 0. 0. 0. 0. 0. 0.]\n",
            " [0. 0. 0. 0. 0. 0. 0. 0. 0. 0. 0. 0.]\n",
            " [0. 0. 0. 0. 0. 0. 0. 0. 0. 0. 0. 0.]]\n",
            "\n",
            "[[0. 1. 0. 1. 0. 1. 0. 1. 0. 1. 0. 1.]\n",
            " [1. 0. 1. 0. 1. 0. 1. 0. 1. 0. 1. 0.]\n",
            " [0. 1. 0. 1. 0. 1. 0. 1. 0. 1. 0. 1.]\n",
            " [1. 0. 1. 0. 1. 0. 1. 0. 1. 0. 1. 0.]\n",
            " [0. 1. 0. 1. 0. 1. 0. 1. 0. 1. 0. 1.]\n",
            " [1. 0. 1. 0. 1. 0. 1. 0. 1. 0. 1. 0.]\n",
            " [0. 1. 0. 1. 0. 1. 0. 1. 0. 1. 0. 1.]\n",
            " [1. 0. 1. 0. 1. 0. 1. 0. 1. 0. 1. 0.]\n",
            " [0. 1. 0. 1. 0. 1. 0. 1. 0. 1. 0. 1.]\n",
            " [1. 0. 1. 0. 1. 0. 1. 0. 1. 0. 1. 0.]\n",
            " [0. 1. 0. 1. 0. 1. 0. 1. 0. 1. 0. 1.]\n",
            " [1. 0. 1. 0. 1. 0. 1. 0. 1. 0. 1. 0.]]\n"
          ]
        }
      ]
    },
    {
      "cell_type": "markdown",
      "source": [
        "### 6. np.tile을 이용해서 동일한 바둑판 패턴을 만들어보세요"
      ],
      "metadata": {
        "id": "UMVFtU-Az7cE"
      }
    },
    {
      "cell_type": "code",
      "source": [
        "x = np.tile([[0, 1], [1, 0]], (6, 6))\n",
        "print(x)"
      ],
      "metadata": {
        "colab": {
          "base_uri": "https://localhost:8080/"
        },
        "id": "SmaR1ReTGN8T",
        "outputId": "3e51875f-0aa5-4a60-8881-784290abdb66"
      },
      "execution_count": null,
      "outputs": [
        {
          "output_type": "stream",
          "name": "stdout",
          "text": [
            "[[0 1 0 1 0 1 0 1 0 1 0 1]\n",
            " [1 0 1 0 1 0 1 0 1 0 1 0]\n",
            " [0 1 0 1 0 1 0 1 0 1 0 1]\n",
            " [1 0 1 0 1 0 1 0 1 0 1 0]\n",
            " [0 1 0 1 0 1 0 1 0 1 0 1]\n",
            " [1 0 1 0 1 0 1 0 1 0 1 0]\n",
            " [0 1 0 1 0 1 0 1 0 1 0 1]\n",
            " [1 0 1 0 1 0 1 0 1 0 1 0]\n",
            " [0 1 0 1 0 1 0 1 0 1 0 1]\n",
            " [1 0 1 0 1 0 1 0 1 0 1 0]\n",
            " [0 1 0 1 0 1 0 1 0 1 0 1]\n",
            " [1 0 1 0 1 0 1 0 1 0 1 0]]\n"
          ]
        }
      ]
    },
    {
      "cell_type": "markdown",
      "source": [
        "### 7. 1차원 배열이 x에서 값이 5~10인 요소를 0으로 바꾸세요"
      ],
      "metadata": {
        "id": "WDoijuij04h2"
      }
    },
    {
      "cell_type": "code",
      "source": [
        "x = np.array([2,5,3,8,3,34,23,7,10])\n",
        "print(x)\n",
        "##################\n",
        "# 필터링을 사용하세요.\n",
        "indices = np.where((x >= 5) & (x <= 10))\n",
        "x[indices] = 0\n",
        "\n",
        "##################\n",
        "print(x)"
      ],
      "metadata": {
        "colab": {
          "base_uri": "https://localhost:8080/"
        },
        "id": "_CA0XBRY0Bl3",
        "outputId": "883582d5-dbe5-4b28-bd28-9d5b14c5604e"
      },
      "execution_count": null,
      "outputs": [
        {
          "output_type": "stream",
          "name": "stdout",
          "text": [
            "[ 2  5  3  8  3 34 23  7 10]\n",
            "[ 2  0  3  0  3 34 23  0  0]\n"
          ]
        }
      ]
    },
    {
      "cell_type": "markdown",
      "source": [
        "### 8. 0에서 100 사이의 값으로 크기가 10인 1차원 array를 만드세요"
      ],
      "metadata": {
        "id": "6nPNeDEs0znZ"
      }
    },
    {
      "cell_type": "code",
      "source": [
        "ary = np.random.uniform(0, 101, 10)\n",
        "print(ary)"
      ],
      "metadata": {
        "id": "y1BjZtun088J",
        "colab": {
          "base_uri": "https://localhost:8080/"
        },
        "outputId": "a4186aaf-43eb-4cc0-efc9-453a3b75f586"
      },
      "execution_count": null,
      "outputs": [
        {
          "output_type": "stream",
          "name": "stdout",
          "text": [
            "[  3.12706976  55.48019385  97.35433302  12.46586194  62.72405609\n",
            "  85.41874606 100.21532248  12.90254234  47.99098563  79.51977369]\n"
          ]
        }
      ]
    },
    {
      "cell_type": "markdown",
      "source": [
        "### 9. np.allclose() 함수를 사용하여 2개의 array가 같은지를 확인해보세요"
      ],
      "metadata": {
        "id": "XNc__eZn1Scz"
      }
    },
    {
      "cell_type": "code",
      "source": [
        "A = np.array([1e10,1e-8])\n",
        "B = np.array([1.00001e10,1e-9])\n",
        "\n",
        "equal = np.allclose(A, B)\n",
        "print(equal)"
      ],
      "metadata": {
        "colab": {
          "base_uri": "https://localhost:8080/"
        },
        "id": "yy2oImbL1O28",
        "outputId": "900df2cf-fb08-404b-9721-d57fa54fc074"
      },
      "execution_count": null,
      "outputs": [
        {
          "output_type": "stream",
          "name": "stdout",
          "text": [
            "True\n"
          ]
        }
      ]
    },
    {
      "cell_type": "markdown",
      "source": [
        "### 10. 데카르트 좌표를 나타내는 랜덤 8x2 행렬을 고려하여 극좌표로 변환해보세요"
      ],
      "metadata": {
        "id": "ymexQuTJ1k7d"
      }
    },
    {
      "cell_type": "markdown",
      "source": [
        "- 데카르트 좌표 (x, y)\n",
        "- 극좌표 (r, θ)\n",
        "\n",
        "$$ r = \\sqrt{x^2 + y^2} $$\n",
        "$$ θ = tan^{-1}(\\frac{y}{x}) $$"
      ],
      "metadata": {
        "id": "PYmZi1u62B_j"
      }
    },
    {
      "cell_type": "code",
      "source": [
        "coord = np.random.random((10,2))\n",
        "x, y = coord[:,0], coord[:,1]\n",
        "\n",
        "r = np.sqrt(x**2 + y**2)\n",
        "theta = np.arctan2(y, x)\n",
        "\n",
        "ploar_coord = np.concatenate([r[:,np.newaxis], theta[:,np.newaxis]],axis=1)\n",
        "print(ploar_coord)"
      ],
      "metadata": {
        "colab": {
          "base_uri": "https://localhost:8080/"
        },
        "id": "r0r4N0CG1axb",
        "outputId": "0fa68c68-7614-4948-836e-9f862cc9b605"
      },
      "execution_count": null,
      "outputs": [
        {
          "output_type": "stream",
          "name": "stdout",
          "text": [
            "[[1.35281835 0.78876849]\n",
            " [0.42360062 1.19886051]\n",
            " [1.36179479 0.79393985]\n",
            " [0.55809116 0.85363573]\n",
            " [0.73334118 0.45746004]\n",
            " [0.3241026  0.05855289]\n",
            " [0.58448858 1.41108116]\n",
            " [0.62312842 0.86662834]\n",
            " [0.7423895  1.04519316]\n",
            " [0.3439065  1.5302902 ]]\n"
          ]
        }
      ]
    }
  ]
}